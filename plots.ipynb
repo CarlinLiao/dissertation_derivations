{
 "cells": [
  {
   "cell_type": "code",
   "execution_count": 8,
   "metadata": {},
   "outputs": [],
   "source": [
    "import pandas as pd\n",
    "import matplotlib.pyplot as plt"
   ]
  },
  {
   "cell_type": "markdown",
   "metadata": {},
   "source": [
    "## AV percentage"
   ]
  },
  {
   "cell_type": "code",
   "execution_count": 9,
   "metadata": {},
   "outputs": [
    {
     "data": {
      "text/html": [
       "<div>\n",
       "<style scoped>\n",
       "    .dataframe tbody tr th:only-of-type {\n",
       "        vertical-align: middle;\n",
       "    }\n",
       "\n",
       "    .dataframe tbody tr th {\n",
       "        vertical-align: top;\n",
       "    }\n",
       "\n",
       "    .dataframe thead th {\n",
       "        text-align: right;\n",
       "    }\n",
       "</style>\n",
       "<table border=\"1\" class=\"dataframe\">\n",
       "  <thead>\n",
       "    <tr style=\"text-align: right;\">\n",
       "      <th></th>\n",
       "      <th>av_p</th>\n",
       "      <th>delay_mn</th>\n",
       "      <th>delay_sd</th>\n",
       "    </tr>\n",
       "  </thead>\n",
       "  <tbody>\n",
       "    <tr>\n",
       "      <th>0</th>\n",
       "      <td>0.0</td>\n",
       "      <td>1.7740</td>\n",
       "      <td>0.93610</td>\n",
       "    </tr>\n",
       "    <tr>\n",
       "      <th>1</th>\n",
       "      <td>0.1</td>\n",
       "      <td>1.4420</td>\n",
       "      <td>0.67920</td>\n",
       "    </tr>\n",
       "    <tr>\n",
       "      <th>2</th>\n",
       "      <td>0.2</td>\n",
       "      <td>1.2570</td>\n",
       "      <td>0.82490</td>\n",
       "    </tr>\n",
       "    <tr>\n",
       "      <th>3</th>\n",
       "      <td>0.3</td>\n",
       "      <td>0.9437</td>\n",
       "      <td>0.33910</td>\n",
       "    </tr>\n",
       "    <tr>\n",
       "      <th>4</th>\n",
       "      <td>0.4</td>\n",
       "      <td>0.8340</td>\n",
       "      <td>0.26660</td>\n",
       "    </tr>\n",
       "    <tr>\n",
       "      <th>5</th>\n",
       "      <td>0.5</td>\n",
       "      <td>0.9206</td>\n",
       "      <td>0.60420</td>\n",
       "    </tr>\n",
       "    <tr>\n",
       "      <th>6</th>\n",
       "      <td>0.6</td>\n",
       "      <td>0.7193</td>\n",
       "      <td>0.21870</td>\n",
       "    </tr>\n",
       "    <tr>\n",
       "      <th>7</th>\n",
       "      <td>0.7</td>\n",
       "      <td>0.7775</td>\n",
       "      <td>0.29920</td>\n",
       "    </tr>\n",
       "    <tr>\n",
       "      <th>8</th>\n",
       "      <td>0.8</td>\n",
       "      <td>0.6178</td>\n",
       "      <td>0.20390</td>\n",
       "    </tr>\n",
       "    <tr>\n",
       "      <th>9</th>\n",
       "      <td>0.9</td>\n",
       "      <td>0.5385</td>\n",
       "      <td>0.09675</td>\n",
       "    </tr>\n",
       "    <tr>\n",
       "      <th>10</th>\n",
       "      <td>1.0</td>\n",
       "      <td>0.4777</td>\n",
       "      <td>0.05994</td>\n",
       "    </tr>\n",
       "  </tbody>\n",
       "</table>\n",
       "</div>"
      ],
      "text/plain": [
       "    av_p  delay_mn  delay_sd\n",
       "0    0.0    1.7740   0.93610\n",
       "1    0.1    1.4420   0.67920\n",
       "2    0.2    1.2570   0.82490\n",
       "3    0.3    0.9437   0.33910\n",
       "4    0.4    0.8340   0.26660\n",
       "5    0.5    0.9206   0.60420\n",
       "6    0.6    0.7193   0.21870\n",
       "7    0.7    0.7775   0.29920\n",
       "8    0.8    0.6178   0.20390\n",
       "9    0.9    0.5385   0.09675\n",
       "10   1.0    0.4777   0.05994"
      ]
     },
     "execution_count": 9,
     "metadata": {},
     "output_type": "execute_result"
    }
   ],
   "source": [
    "df = pd.read_csv('trial_data/av_perc.csv', index_col=False)\n",
    "df"
   ]
  },
  {
   "cell_type": "code",
   "execution_count": 10,
   "metadata": {},
   "outputs": [
    {
     "data": {
      "image/png": "[encoded data removed]",
      "text/plain": [
       "<Figure size 432x288 with 1 Axes>"
      ]
     },
     "metadata": {
      "needs_background": "light"
     },
     "output_type": "display_data"
    }
   ],
   "source": [
    "plt.errorbar(df['av_p'], df['delay_mn'], 2*df['delay_sd']/30**.5)\n",
    "plt.xlabel('AV proportion')\n",
    "plt.ylabel('Average delay (s)')\n",
    "plt.savefig('figs/av_prop.png')\n",
    "plt.show()"
   ]
  },
  {
   "cell_type": "markdown",
   "metadata": {},
   "source": [
    "## Misreporting benefit"
   ]
  },
  {
   "cell_type": "code",
   "execution_count": 11,
   "metadata": {},
   "outputs": [
    {
     "data": {
      "text/html": [
       "<div>\n",
       "<style scoped>\n",
       "    .dataframe tbody tr th:only-of-type {\n",
       "        vertical-align: middle;\n",
       "    }\n",
       "\n",
       "    .dataframe tbody tr th {\n",
       "        vertical-align: top;\n",
       "    }\n",
       "\n",
       "    .dataframe thead th {\n",
       "        text-align: right;\n",
       "    }\n",
       "</style>\n",
       "<table border=\"1\" class=\"dataframe\">\n",
       "  <thead>\n",
       "    <tr style=\"text-align: right;\">\n",
       "      <th></th>\n",
       "      <th>factor</th>\n",
       "      <th>config</th>\n",
       "      <th>mechanism</th>\n",
       "      <th>cost_ratio_mean</th>\n",
       "      <th>cost_ratio_sd</th>\n",
       "      <th>ratio_95</th>\n",
       "    </tr>\n",
       "  </thead>\n",
       "  <tbody>\n",
       "    <tr>\n",
       "      <th>3</th>\n",
       "      <td>0.80</td>\n",
       "      <td>multiple</td>\n",
       "      <td>1st</td>\n",
       "      <td>1.641</td>\n",
       "      <td>2.052</td>\n",
       "      <td>0.4104</td>\n",
       "    </tr>\n",
       "    <tr>\n",
       "      <th>4</th>\n",
       "      <td>0.80</td>\n",
       "      <td>multiple</td>\n",
       "      <td>2nd</td>\n",
       "      <td>1.878</td>\n",
       "      <td>2.500</td>\n",
       "      <td>0.5000</td>\n",
       "    </tr>\n",
       "    <tr>\n",
       "      <th>5</th>\n",
       "      <td>0.80</td>\n",
       "      <td>multiple</td>\n",
       "      <td>ext</td>\n",
       "      <td>6.192</td>\n",
       "      <td>14.882</td>\n",
       "      <td>2.9764</td>\n",
       "    </tr>\n",
       "    <tr>\n",
       "      <th>12</th>\n",
       "      <td>0.85</td>\n",
       "      <td>multiple</td>\n",
       "      <td>1st</td>\n",
       "      <td>1.651</td>\n",
       "      <td>2.080</td>\n",
       "      <td>0.4160</td>\n",
       "    </tr>\n",
       "    <tr>\n",
       "      <th>13</th>\n",
       "      <td>0.85</td>\n",
       "      <td>multiple</td>\n",
       "      <td>2nd</td>\n",
       "      <td>1.885</td>\n",
       "      <td>2.542</td>\n",
       "      <td>0.5084</td>\n",
       "    </tr>\n",
       "  </tbody>\n",
       "</table>\n",
       "</div>"
      ],
      "text/plain": [
       "    factor    config mechanism  cost_ratio_mean  cost_ratio_sd  ratio_95\n",
       "3     0.80  multiple       1st            1.641          2.052    0.4104\n",
       "4     0.80  multiple       2nd            1.878          2.500    0.5000\n",
       "5     0.80  multiple       ext            6.192         14.882    2.9764\n",
       "12    0.85  multiple       1st            1.651          2.080    0.4160\n",
       "13    0.85  multiple       2nd            1.885          2.542    0.5084"
      ]
     },
     "execution_count": 11,
     "metadata": {},
     "output_type": "execute_result"
    }
   ],
   "source": [
    "df = pd.read_csv('trial_data/one_liar.csv', index_col=False)\n",
    "df.dropna(inplace=True)\n",
    "df['ratio_95'] = 2*df['cost_ratio_sd']/100**.5\n",
    "df.head()"
   ]
  },
  {
   "cell_type": "code",
   "execution_count": 12,
   "metadata": {},
   "outputs": [
    {
     "data": {
      "image/png": "[encoded data removed]",
      "text/plain": [
       "<Figure size 432x288 with 1 Axes>"
      ]
     },
     "metadata": {
      "needs_background": "light"
     },
     "output_type": "display_data"
    }
   ],
   "source": [
    "for mechanism in ('1st', '2nd', 'ext'):\n",
    "    names = {'1st': '1st price',\n",
    "    '2nd': '2nd price',\n",
    "    'ext': 'Externality'}\n",
    "    df_subset = df[df['mechanism'] == mechanism]\n",
    "    plt.errorbar(df_subset['factor'], df_subset['cost_ratio_mean'], df_subset['ratio_95'], label=names[mechanism])\n",
    "plt.plot([i/100 for i in range(80, 111, 5)], [1 for _ in range(7)], c='gray', alpha = .5, label='Incentive')\n",
    "plt.xlabel('VOT misreporting scaling')\n",
    "plt.ylabel('Average cost incurred')\n",
    "plt.legend()\n",
    "plt.savefig('figs/vot_misreport.png')\n",
    "plt.show()"
   ]
  },
  {
   "cell_type": "markdown",
   "metadata": {},
   "source": [
    "## Delay compared to flow"
   ]
  },
  {
   "cell_type": "code",
   "execution_count": 13,
   "metadata": {},
   "outputs": [
    {
     "data": {
      "text/html": [
       "<div>\n",
       "<style scoped>\n",
       "    .dataframe tbody tr th:only-of-type {\n",
       "        vertical-align: middle;\n",
       "    }\n",
       "\n",
       "    .dataframe tbody tr th {\n",
       "        vertical-align: top;\n",
       "    }\n",
       "\n",
       "    .dataframe thead th {\n",
       "        text-align: right;\n",
       "    }\n",
       "</style>\n",
       "<table border=\"1\" class=\"dataframe\">\n",
       "  <thead>\n",
       "    <tr style=\"text-align: right;\">\n",
       "      <th></th>\n",
       "      <th>vpm</th>\n",
       "      <th>method</th>\n",
       "      <th>mean</th>\n",
       "      <th>sd</th>\n",
       "    </tr>\n",
       "  </thead>\n",
       "  <tbody>\n",
       "    <tr>\n",
       "      <th>0</th>\n",
       "      <td>0.0</td>\n",
       "      <td>det</td>\n",
       "      <td>0.0000</td>\n",
       "      <td>0.00000</td>\n",
       "    </tr>\n",
       "    <tr>\n",
       "      <th>1</th>\n",
       "      <td>0.0</td>\n",
       "      <td>signal</td>\n",
       "      <td>0.0000</td>\n",
       "      <td>0.00000</td>\n",
       "    </tr>\n",
       "    <tr>\n",
       "      <th>2</th>\n",
       "      <td>0.0</td>\n",
       "      <td>soft</td>\n",
       "      <td>0.0000</td>\n",
       "      <td>0.00000</td>\n",
       "    </tr>\n",
       "    <tr>\n",
       "      <th>3</th>\n",
       "      <td>0.0</td>\n",
       "      <td>hard</td>\n",
       "      <td>0.0000</td>\n",
       "      <td>0.00000</td>\n",
       "    </tr>\n",
       "    <tr>\n",
       "      <th>4</th>\n",
       "      <td>2.5</td>\n",
       "      <td>det</td>\n",
       "      <td>0.2865</td>\n",
       "      <td>0.04244</td>\n",
       "    </tr>\n",
       "  </tbody>\n",
       "</table>\n",
       "</div>"
      ],
      "text/plain": [
       "   vpm  method    mean       sd\n",
       "0  0.0     det  0.0000  0.00000\n",
       "1  0.0  signal  0.0000  0.00000\n",
       "2  0.0    soft  0.0000  0.00000\n",
       "3  0.0    hard  0.0000  0.00000\n",
       "4  2.5     det  0.2865  0.04244"
      ]
     },
     "execution_count": 13,
     "metadata": {},
     "output_type": "execute_result"
    }
   ],
   "source": [
    "df = pd.read_csv('trial_data/flow.csv', index_col=False)\n",
    "df.head()"
   ]
  },
  {
   "cell_type": "code",
   "execution_count": 14,
   "metadata": {},
   "outputs": [
    {
     "data": {
      "image/png": "[encoded data removed]",
      "text/plain": [
       "<Figure size 432x288 with 1 Axes>"
      ]
     },
     "metadata": {
      "needs_background": "light"
     },
     "output_type": "display_data"
    }
   ],
   "source": [
    "for method in ('signal', 'det', 'soft', 'hard'):\n",
    "    names = {'signal': 'Signal',\n",
    "    'det': 'Det/Det',\n",
    "    'soft': 'Stoch/Stoch',\n",
    "    'hard': 'Stoch/Det'}\n",
    "    df_subset = df[df['method'] == method]\n",
    "    plt.errorbar(df_subset['vpm']*60*4, df_subset['mean'], 2*df_subset['sd']/100**.5, label=names[method])\n",
    "plt.xlabel('Demand (vehicles/hour)')\n",
    "plt.ylabel('Average delay (s)')\n",
    "plt.legend()\n",
    "plt.savefig('figs/demand.png')\n",
    "plt.show()"
   ]
  },
  {
   "cell_type": "code",
   "execution_count": null,
   "metadata": {},
   "outputs": [],
   "source": []
  }
 ],
 "metadata": {
  "interpreter": {
   "hash": "e48e1a5ea9525cf93d1608c1ebde92dc752ec1078d4098075ee50bd2c84983de"
  },
  "kernelspec": {
   "display_name": "Python 3.9.7 64-bit ('base': conda)",
   "language": "python",
   "name": "python3"
  },
  "language_info": {
   "codemirror_mode": {
    "name": "ipython",
    "version": 3
   },
   "file_extension": ".py",
   "mimetype": "text/x-python",
   "name": "python",
   "nbconvert_exporter": "python",
   "pygments_lexer": "ipython3",
   "version": "3.9.7"
  },
  "orig_nbformat": 4
 },
 "nbformat": 4,
 "nbformat_minor": 2
}
