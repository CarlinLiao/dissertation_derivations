{
 "metadata": {
  "language_info": {
   "codemirror_mode": {
    "name": "ipython",
    "version": 3
   },
   "file_extension": ".py",
   "mimetype": "text/x-python",
   "name": "python",
   "nbconvert_exporter": "python",
   "pygments_lexer": "ipython3",
   "version": "3.8.5-final"
  },
  "orig_nbformat": 2,
  "kernelspec": {
   "name": "python385jvsc74a57bd03dcb5005636e1f2fbdf8c93fd392d41877452f81de998ec0b0cdc763acc5492d",
   "display_name": "Python 3.8.5 64-bit ('miniconda3': conda)"
  }
 },
 "nbformat": 4,
 "nbformat_minor": 2,
 "cells": [
  {
   "cell_type": "code",
   "execution_count": 1,
   "metadata": {},
   "outputs": [],
   "source": [
    "from sympy import Symbol, simplify, Eq, sqrt\n",
    "from sympy.solvers import solve\n",
    "from sympy.core.power import Pow"
   ]
  },
  {
   "source": [
    "# A.1: Accelerate then brake to a stop before the intersection"
   ],
   "cell_type": "markdown",
   "metadata": {}
  },
  {
   "cell_type": "code",
   "execution_count": 2,
   "metadata": {},
   "outputs": [],
   "source": [
    "v_0 = Symbol('v_0', nonnegative=True, real = True)\n",
    "v_e = Symbol('v_e', nonnegative=True, real = True)\n",
    "x = Symbol('x', nonnegative=True, real = True)\n",
    "x_a = Symbol('x_a', nonnegative=True, real = True)\n",
    "x_b = Symbol('x_b', nonnegative=True, real = True)\n",
    "t = Symbol('t', nonnegative=True)\n",
    "t_a = Symbol('t_a', nonnegative=True, real = True)\n",
    "t_b = Symbol('t_b', nonnegative=True, real = True)\n",
    "a = Symbol('a', nonnegative=True, real = True)\n",
    "b = Symbol('b', nonpositive=True, real = True)"
   ]
  },
  {
   "source": [
    "## A.1.0.1 Lower Bound"
   ],
   "cell_type": "markdown",
   "metadata": {}
  },
  {
   "cell_type": "code",
   "execution_count": 3,
   "metadata": {},
   "outputs": [
    {
     "output_type": "execute_result",
     "data": {
      "text/plain": [
       "Eq(x, x_a + x_b)"
      ],
      "text/latex": "$\\displaystyle x = x_{a} + x_{b}$"
     },
     "metadata": {},
     "execution_count": 3
    }
   ],
   "source": [
    "eq = Eq(x, x_a + x_b)\n",
    "eq"
   ]
  },
  {
   "cell_type": "code",
   "execution_count": 4,
   "metadata": {},
   "outputs": [
    {
     "output_type": "execute_result",
     "data": {
      "text/plain": [
       "0.5*a*t_a**2 + t_a*v_0"
      ],
      "text/latex": "$\\displaystyle 0.5 a t_{a}^{2} + t_{a} v_{0}$"
     },
     "metadata": {},
     "execution_count": 4
    }
   ],
   "source": [
    "ex_x_a = v_0*t_a + 1/2* a*t_a**2\n",
    "ex_x_a"
   ]
  },
  {
   "cell_type": "code",
   "execution_count": 5,
   "metadata": {},
   "outputs": [
    {
     "output_type": "execute_result",
     "data": {
      "text/plain": [
       "0.5*b*(t - t_a)**2 + (t - t_a)*(a*t_a + v_0)"
      ],
      "text/latex": "$\\displaystyle 0.5 b \\left(t - t_{a}\\right)^{2} + \\left(t - t_{a}\\right) \\left(a t_{a} + v_{0}\\right)$"
     },
     "metadata": {},
     "execution_count": 5
    }
   ],
   "source": [
    "ex_x_b = (v_0 + a*t_a)*(t - t_a) + 1/2* b* (t - t_a)**2\n",
    "ex_x_b"
   ]
  },
  {
   "cell_type": "code",
   "execution_count": 6,
   "metadata": {},
   "outputs": [
    {
     "output_type": "execute_result",
     "data": {
      "text/plain": [
       "Eq(x, 0.5*a*t_a**2 + 0.5*b*(t - t_a)**2 + t_a*v_0 + (t - t_a)*(a*t_a + v_0))"
      ],
      "text/latex": "$\\displaystyle x = 0.5 a t_{a}^{2} + 0.5 b \\left(t - t_{a}\\right)^{2} + t_{a} v_{0} + \\left(t - t_{a}\\right) \\left(a t_{a} + v_{0}\\right)$"
     },
     "metadata": {},
     "execution_count": 6
    }
   ],
   "source": [
    "eq = eq.subs(x_a, ex_x_a).subs(x_b, ex_x_b)\n",
    "eq"
   ]
  },
  {
   "cell_type": "code",
   "execution_count": 7,
   "metadata": {},
   "outputs": [
    {
     "output_type": "execute_result",
     "data": {
      "text/plain": [
       "Eq(x, a*t*t_a - 0.5*a*t_a**2 + 0.5*b*(t - t_a)**2 + t*v_0)"
      ],
      "text/latex": "$\\displaystyle x = a t t_{a} - 0.5 a t_{a}^{2} + 0.5 b \\left(t - t_{a}\\right)^{2} + t v_{0}$"
     },
     "metadata": {},
     "execution_count": 7
    }
   ],
   "source": [
    "eq = simplify(eq)\n",
    "eq"
   ]
  },
  {
   "cell_type": "code",
   "execution_count": 8,
   "metadata": {},
   "outputs": [
    {
     "output_type": "execute_result",
     "data": {
      "text/plain": [
       "Eq(x, a*t*(b*t + v_0)/(-a + b) - 0.5*a*(b*t + v_0)**2/(-a + b)**2 + 0.5*b*(t - (b*t + v_0)/(-a + b))**2 + t*v_0)"
      ],
      "text/latex": "$\\displaystyle x = \\frac{a t \\left(b t + v_{0}\\right)}{- a + b} - \\frac{0.5 a \\left(b t + v_{0}\\right)^{2}}{\\left(- a + b\\right)^{2}} + 0.5 b \\left(t - \\frac{b t + v_{0}}{- a + b}\\right)^{2} + t v_{0}$"
     },
     "metadata": {},
     "execution_count": 8
    }
   ],
   "source": [
    "eq = eq.subs(t_a, (b*t + v_0) / (b-a))\n",
    "eq"
   ]
  },
  {
   "cell_type": "code",
   "execution_count": 9,
   "metadata": {},
   "outputs": [
    {
     "output_type": "execute_result",
     "data": {
      "text/plain": [
       "Eq(x, -(0.5*a*b*t**2 + 1.0*b*t*v_0 + 0.5*v_0**2)/(a - b))"
      ],
      "text/latex": "$\\displaystyle x = - \\frac{0.5 a b t^{2} + 1.0 b t v_{0} + 0.5 v_{0}^{2}}{a - b}$"
     },
     "metadata": {},
     "execution_count": 9
    }
   ],
   "source": [
    "eq = simplify(eq)\n",
    "eq"
   ]
  },
  {
   "cell_type": "code",
   "execution_count": 10,
   "metadata": {},
   "outputs": [
    {
     "output_type": "execute_result",
     "data": {
      "text/plain": [
       "(-b*v_0 + 1.4142135623731*sqrt(-b)*sqrt(a - b)*sqrt(a*x + 0.5*v_0**2))/(a*b)"
      ],
      "text/latex": "$\\displaystyle \\frac{- b v_{0} + 1.4142135623731 \\sqrt{- b} \\sqrt{a - b} \\sqrt{a x + 0.5 v_{0}^{2}}}{a b}$"
     },
     "metadata": {},
     "execution_count": 10
    }
   ],
   "source": [
    "t_sol = solve(eq, t)[0]\n",
    "t_sol"
   ]
  },
  {
   "cell_type": "code",
   "execution_count": 11,
   "metadata": {},
   "outputs": [
    {
     "output_type": "execute_result",
     "data": {
      "text/plain": [
       "(-a*v_0 + b*v_0 - 1.4142135623731*sqrt(-b)*sqrt(a - b)*sqrt(a*x + 0.5*v_0**2))/(a*(a - b))"
      ],
      "text/latex": "$\\displaystyle \\frac{- a v_{0} + b v_{0} - 1.4142135623731 \\sqrt{- b} \\sqrt{a - b} \\sqrt{a x + 0.5 v_{0}^{2}}}{a \\left(a - b\\right)}$"
     },
     "metadata": {},
     "execution_count": 11
    }
   ],
   "source": [
    "t_a_eq = (b*t + v_0)/(b-a)\n",
    "t_a_sol = simplify(t_a_eq.subs(t, t_sol))\n",
    "t_a_sol"
   ]
  },
  {
   "cell_type": "code",
   "execution_count": 12,
   "metadata": {},
   "outputs": [
    {
     "output_type": "execute_result",
     "data": {
      "text/plain": [
       "-1.4142135623731*sqrt(a*x + 0.5*v_0**2)/(sqrt(-b)*sqrt(a - b))"
      ],
      "text/latex": "$\\displaystyle - \\frac{1.4142135623731 \\sqrt{a x + 0.5 v_{0}^{2}}}{\\sqrt{- b} \\sqrt{a - b}}$"
     },
     "metadata": {},
     "execution_count": 12
    }
   ],
   "source": [
    "t_b_eq = t - t_a_eq\n",
    "t_b_sol = simplify(t_b_eq.subs(t, t_sol))\n",
    "t_b_sol"
   ]
  },
  {
   "source": [
    "## A.1.1 Fixed $t_b$, free exit velocity"
   ],
   "cell_type": "markdown",
   "metadata": {}
  },
  {
   "cell_type": "code",
   "execution_count": 13,
   "metadata": {},
   "outputs": [
    {
     "output_type": "execute_result",
     "data": {
      "text/plain": [
       "Eq(x, x_a + x_b)"
      ],
      "text/latex": "$\\displaystyle x = x_{a} + x_{b}$"
     },
     "metadata": {},
     "execution_count": 13
    }
   ],
   "source": [
    "eq_x_a_tb = v_0*(t-t_b) + 1/2*a*(t-t_b)**2\n",
    "eq_x_b_tb = (v_0 + a*(t-t_b))*t_b + 1/2*b*t_b**2\n",
    "eq = Eq(x, x_a + x_b)\n",
    "eq"
   ]
  },
  {
   "cell_type": "code",
   "execution_count": 14,
   "metadata": {},
   "outputs": [
    {
     "output_type": "execute_result",
     "data": {
      "text/plain": [
       "Eq(x, 0.5*a*(t - t_b)**2 + 0.5*b*t_b**2 + t_b*(a*(t - t_b) + v_0) + v_0*(t - t_b))"
      ],
      "text/latex": "$\\displaystyle x = 0.5 a \\left(t - t_{b}\\right)^{2} + 0.5 b t_{b}^{2} + t_{b} \\left(a \\left(t - t_{b}\\right) + v_{0}\\right) + v_{0} \\left(t - t_{b}\\right)$"
     },
     "metadata": {},
     "execution_count": 14
    }
   ],
   "source": [
    "eq = eq.subs(x_a, eq_x_a_tb).subs(x_b, eq_x_b_tb)\n",
    "eq"
   ]
  },
  {
   "cell_type": "code",
   "execution_count": 15,
   "metadata": {},
   "outputs": [
    {
     "output_type": "execute_result",
     "data": {
      "text/plain": [
       "Eq(x, 0.5*a*t**2 - 0.5*a*t_b**2 + 0.5*b*t_b**2 + 1.0*t*v_0)"
      ],
      "text/latex": "$\\displaystyle x = 0.5 a t^{2} - 0.5 a t_{b}^{2} + 0.5 b t_{b}^{2} + 1.0 t v_{0}$"
     },
     "metadata": {},
     "execution_count": 15
    }
   ],
   "source": [
    "eq = simplify(eq)\n",
    "eq"
   ]
  },
  {
   "cell_type": "code",
   "execution_count": 16,
   "metadata": {},
   "outputs": [
    {
     "output_type": "execute_result",
     "data": {
      "text/plain": [
       "(-v_0 + 1.4142135623731*sqrt(0.5*a**2*t_b**2 - 0.5*a*b*t_b**2 + a*x + 0.5*v_0**2))/a"
      ],
      "text/latex": "$\\displaystyle \\frac{- v_{0} + 1.4142135623731 \\sqrt{0.5 a^{2} t_{b}^{2} - 0.5 a b t_{b}^{2} + a x + 0.5 v_{0}^{2}}}{a}$"
     },
     "metadata": {},
     "execution_count": 16
    }
   ],
   "source": [
    "t_sol2 = solve(eq, t)[0]\n",
    "t_sol2"
   ]
  }
 ]
}